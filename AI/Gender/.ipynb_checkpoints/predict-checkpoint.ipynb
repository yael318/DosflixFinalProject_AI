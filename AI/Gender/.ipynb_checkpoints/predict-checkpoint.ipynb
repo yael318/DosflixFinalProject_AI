{
 "cells": [
  {
   "cell_type": "code",
   "execution_count": 1,
   "metadata": {},
   "outputs": [
    {
     "name": "stdout",
     "output_type": "stream",
     "text": [
      "c:\\Users\\215556754\\Desktop\\Gender\n"
     ]
    }
   ],
   "source": [
    "import os\n",
    "import numpy as np\n",
    "import random\n",
    "import matplotlib.pyplot as plt\n",
    "import matplotlib.image as mpimg\n",
    "import pandas as pd\n",
    "from PIL import Image\n",
    "from tqdm import tqdm\n",
    "from sklearn.model_selection import train_test_split\n",
    "import shutil\n",
    "import os\n",
    "print(os.getcwd())\n",
    "import torch.nn as nn"
   ]
  },
  {
   "cell_type": "code",
   "metadata": {
    "jupyter": {
     "is_executing": true
    },
    "ExecuteTime": {
     "start_time": "2025-06-06T06:22:54.172778Z"
    }
   },
   "source": [
    "from PIL import Image\n",
    "import torch\n",
    "from torchvision import transforms, models\n",
    "\n",
    "# השתמשי ב-transform של התמונות ב-validation/test\n",
    "val_test_transforms = transforms.Compose([\n",
    "    transforms.Resize((224, 224)),\n",
    "    transforms.ToTensor(),\n",
    "    transforms.Normalize([0.485, 0.456, 0.406], [0.229, 0.224, 0.225])\n",
    "])\n",
    "\n",
    "def predict_image(image_path):\n",
    "    # טען את המודל והמשקלים\n",
    "    model = models.resnet18(pretrained=False)\n",
    "    model.fc = nn.Sequential(\n",
    "        nn.Linear(model.fc.in_features, 128),\n",
    "        nn.ReLU(),\n",
    "        nn.Dropout(0.5),\n",
    "        nn.Linear(128, 1)\n",
    "    )\n",
    "    model.load_state_dict(torch.load(\"my_model.pt\", map_location=torch.device('cpu')))\n",
    "    model.eval()\n",
    "\n",
    "    # טען ועבד את התמונה\n",
    "    image = Image.open(image_path).convert(\"RGB\")\n",
    "        # שינוי גודל תוך שמירה על יחס גובה-רוחב\n",
    "    image.thumbnail((224, 224), Image.LANCZOS)\n",
    "    \n",
    "    # יצירת תמונה חדשה עם רקע לבן\n",
    "    background = Image.new('RGB', (224, 224), (255, 255, 255))\n",
    "    img_w, img_h = image.size\n",
    "    offset = ((224 - img_w) // 2, (224 - img_h) // 2)\n",
    "    background.paste(image, offset)\n",
    "    image = val_test_transforms(background)\n",
    "    image = image.unsqueeze(0)  # הוספת מימד batch\n",
    "\n",
    "    # חיזוי\n",
    "    with torch.no_grad():\n",
    "        output = model(image)\n",
    "        prob = torch.sigmoid(output).item()\n",
    "        pred = 1 if prob > 0.5 else 0\n",
    "        label = \"male\" if pred == 1 else \"female\"\n",
    "        print(f\"Prediction: {label} (probability: {prob:.4f})\")\n",
    "        return label\n",
    "\n"
   ],
   "outputs": [],
   "execution_count": null
  },
  {
   "cell_type": "code",
   "execution_count": 27,
   "metadata": {},
   "outputs": [
    {
     "name": "stdout",
     "output_type": "stream",
     "text": [
      "Prediction: female (probability: 0.3396)\n"
     ]
    },
    {
     "data": {
      "text/plain": [
       "'female'"
      ]
     },
     "execution_count": 27,
     "metadata": {},
     "output_type": "execute_result"
    }
   ],
   "source": [
    "predict_image(rf\"C:\\\\Users\\\\215556754\\\\Desktop\\\\non-child-1.png\")"
   ]
  }
 ],
 "metadata": {
  "kernelspec": {
   "display_name": "Python 3",
   "language": "python",
   "name": "python3"
  },
  "language_info": {
   "codemirror_mode": {
    "name": "ipython",
    "version": 3
   },
   "file_extension": ".py",
   "mimetype": "text/x-python",
   "name": "python",
   "nbconvert_exporter": "python",
   "pygments_lexer": "ipython3",
   "version": "3.11.4"
  },
  "orig_nbformat": 4
 },
 "nbformat": 4,
 "nbformat_minor": 2
}
